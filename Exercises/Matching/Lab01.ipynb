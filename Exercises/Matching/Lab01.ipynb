{
 "cells": [
  {
   "cell_type": "code",
   "execution_count": 1,
   "metadata": {
    "id": "hG7CUeJb4MCH",
    "pycharm": {
     "name": "#%%\n"
    }
   },
   "outputs": [],
   "source": [
    "import numpy as np\n",
    "from scipy.optimize import linear_sum_assignment\n",
    "from matplotlib import pyplot as plt\n",
    "from typing import List, Tuple"
   ]
  },
  {
   "cell_type": "code",
   "execution_count": 2,
   "metadata": {
    "id": "2FGAfPg54Pqj",
    "pycharm": {
     "name": "#%%\n"
    }
   },
   "outputs": [],
   "source": [
    "class Environment():\n",
    "    def __init__(self, n_arms, probabilities):\n",
    "        self.n_arms = n_arms\n",
    "        self.probabilities = probabilities\n",
    "\n",
    "    def round(self, pulled_arm):\n",
    "        reward = np.random.binomial(1, self.probabilities[pulled_arm])\n",
    "        return reward"
   ]
  },
  {
   "cell_type": "code",
   "execution_count": 3,
   "metadata": {
    "id": "0qZxKi5W5aht",
    "pycharm": {
     "name": "#%%\n"
    }
   },
   "outputs": [],
   "source": [
    "class Matching_Environment(Environment):\n",
    "    def __init__(self, n_arms, probabilities, horizon):\n",
    "        super().__init__(n_arms, probabilities)\n",
    "        self.t = 0\n",
    "\n",
    "    def round(self, pulled_arm):\n",
    "        p = self.probabilities[pulled_arm]\n",
    "        self.t += 1\n",
    "        reward = np.random.binomial(1, p)\n",
    "        return reward"
   ]
  },
  {
   "cell_type": "code",
   "execution_count": 4,
   "metadata": {
    "id": "EtDdkpLq4REg",
    "pycharm": {
     "name": "#%%\n"
    }
   },
   "outputs": [],
   "source": [
    "class Learner:\n",
    "    def __init__(self, n_arms):\n",
    "        self.n_arms = n_arms\n",
    "        self.t = 0\n",
    "        self.rewards_per_arm = [[] for i in range(n_arms)]\n",
    "        self.collected_rewards = np.array([])\n",
    "\n",
    "    def pull_arm(self):\n",
    "        pass\n",
    "\n",
    "    def update_observations(self, pulled_arm, reward):\n",
    "        self.rewards_per_arm[pulled_arm].append(reward)\n",
    "        self.collected_rewards = np.append(self.collected_rewards, reward)"
   ]
  },
  {
   "cell_type": "code",
   "execution_count": 5,
   "metadata": {
    "id": "FsSYfF-s2HMg",
    "pycharm": {
     "name": "#%%\n"
    }
   },
   "outputs": [],
   "source": [
    "class UCB(Learner):\n",
    "    def __init__(self, n_arms):\n",
    "        super().__init__(n_arms)\n",
    "        self.empirical_means = np.zeros(n_arms)\n",
    "        self.confidence = np.array([np.inf]*n_arms)\n",
    "\n",
    "    def pull_arm(self):\n",
    "        upper_conf = self.empirical_means + self.confidence\n",
    "        return np.random.choice(np.where(upper_conf == upper_conf.max())[0])\n",
    "\n",
    "    def update(self, pulled_arm, reward):\n",
    "        self.t += 1\n",
    "        self.empirical_means[pulled_arm] = (self.empirical_means[pulled_arm]*(self.t-1) + reward)/self.t\n",
    "        for a in range(self.n_arms):\n",
    "            n_samples = len(self.rewards_per_arm[a])\n",
    "            self.confidence[a] = (2*np.log(self.t)/n_samples)**0.5 if n_samples > 0 else np.inf\n",
    "        self.update_observations(pulled_arm, reward)"
   ]
  },
  {
   "cell_type": "code",
   "execution_count": 6,
   "metadata": {
    "id": "rdkT2CcErSNB",
    "pycharm": {
     "name": "#%%\n"
    }
   },
   "outputs": [],
   "source": [
    "class UCB_Matching(UCB):\n",
    "    def __init__(self, n_arms, n_rows, n_cols):\n",
    "        super().__init__(n_arms)\n",
    "        self.n_rows = n_rows\n",
    "        self.n_cols = n_cols\n",
    "        assert n_arms == n_rows * n_cols\n",
    "        self.empirical_means = np.zeros(n_arms)\n",
    "        self.confidence = np.array([np.inf]*n_arms)\n",
    "\n",
    "    def pull_arm(self):\n",
    "        upper_conf = self.empirical_means + self.confidence\n",
    "        upper_conf[np.isinf(upper_conf)] = 1000\n",
    "        # TS -> samples = # draw from beta (on e per arm)\n",
    "        row_ind, col_ind = linear_sum_assignment(-upper_conf.reshape(self.n_rows, self.n_cols))\n",
    "        return (row_ind, col_ind)\n",
    "\n",
    "    def update(self, pulled_arms, rewards):\n",
    "        # TS -> update beta and alphas of the beta distributions\n",
    "        self.t += 1\n",
    "        pulled_arms_flat = np.ravel_multi_index(pulled_arms, (self.n_rows, self.n_cols))\n",
    "        for pulled_arm, reward in zip(pulled_arms_flat, rewards):\n",
    "            self.update_observations(pulled_arm, reward)\n",
    "            self.empirical_means[pulled_arm] = (self.empirical_means[pulled_arm]*(self.t-1) + reward)/self.t\n",
    "        for a in range(self.n_arms):\n",
    "            n_samples = len(self.rewards_per_arm[a])\n",
    "            self.confidence[a] = (2*np.log(self.t)/n_samples)**0.5 if n_samples > 0 else np.inf"
   ]
  },
  {
   "cell_type": "code",
   "execution_count": 7,
   "metadata": {
    "id": "L1Xb1swl3nlj",
    "pycharm": {
     "name": "#%%\n"
    }
   },
   "outputs": [],
   "source": [
    "p0 = np.array([[1/4, 1, 1/4], [1/2, 1/4, 1/4], [1/4, 1/4, 1]])\n",
    "T = 3000\n",
    "n_exp = 10\n",
    "regret_ucb = np.zeros((n_exp, T))\n",
    "for j in range(n_exp):\n",
    "    env = Matching_Environment(p0.size, p0, T)\n",
    "    learner_UCB = UCB_Matching(p0.size, *p0.shape)\n",
    "    opt_rew = []\n",
    "    rew_CD = []\n",
    "    rew_UCB = []\n",
    "    for t in range(T):\n",
    "        p = p0    \n",
    "        opt = linear_sum_assignment(-p)\n",
    "        opt_rew.append(p[opt].sum())\n",
    "        pulled_arm = learner_UCB.pull_arm()\n",
    "        reward = env.round(pulled_arm) # There is a bug here according to the assistant\n",
    "        learner_UCB.update(pulled_arm, reward)\n",
    "        rew_UCB.append(reward.sum())\n",
    "\n",
    "    regret_ucb[j, :] = np.cumsum(opt_rew)-np.cumsum(rew_UCB)"
   ]
  },
  {
   "cell_type": "code",
   "execution_count": 8,
   "metadata": {
    "colab": {
     "base_uri": "https://localhost:8080/",
     "height": 265
    },
    "id": "f3YF20oe56CT",
    "outputId": "318ad076-3277-4df2-e425-f0ad89972392",
    "pycharm": {
     "name": "#%%\n"
    }
   },
   "outputs": [
    {
     "data": {
      "image/png": "[encoded data removed]",
      "text/plain": [
       "<Figure size 432x288 with 1 Axes>"
      ]
     },
     "metadata": {
      "needs_background": "light"
     },
     "output_type": "display_data"
    }
   ],
   "source": [
    "mean = np.mean(regret_ucb, axis=0)\n",
    "std = np.std(regret_ucb, axis=0)/np.sqrt(n_exp)\n",
    "plt.figure(0)\n",
    "plt.plot(mean)\n",
    "plt.fill_between(range(len(mean)), mean-std, mean+std, alpha = 0.2)\n",
    "plt.show()"
   ]
  }
 ],
 "metadata": {
  "colab": {
   "collapsed_sections": [],
   "name": "OnlineMatching",
   "provenance": []
  },
  "kernelspec": {
   "display_name": "Python 3",
   "name": "python3"
  },
  "language_info": {
   "codemirror_mode": {
    "name": "ipython",
    "version": 3
   },
   "file_extension": ".py",
   "mimetype": "text/x-python",
   "name": "python",
   "nbconvert_exporter": "python",
   "pygments_lexer": "ipython3",
   "version": "3.9.10"
  }
 },
 "nbformat": 4,
 "nbformat_minor": 0
}