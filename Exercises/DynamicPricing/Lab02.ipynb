{
 "cells": [
  {
   "cell_type": "code",
   "execution_count": 1,
   "metadata": {},
   "outputs": [],
   "source": [
    "import numpy as np\n",
    "import matplotlib.pyplot as plt"
   ]
  },
  {
   "cell_type": "code",
   "execution_count": 2,
   "metadata": {},
   "outputs": [],
   "source": [
    "class non_stat_env:\n",
    "    def __init__(self, n_arms, proba_matrix, horizon):\n",
    "        self.n_arms = n_arms\n",
    "        self.proba_matrix = proba_matrix\n",
    "        self.horizon = horizon\n",
    "        self.n_changes = len(proba_matrix)\n",
    "        self.inner_horizon = self.horizon // self.n_changes\n",
    "        self.t = 0\n",
    "        self.phase = 0\n",
    "\n",
    "    def round(self, pulled_arm):\n",
    "        if self.t > (self.phase + 1) * self.inner_horizon:\n",
    "            self.phase = min(self.phase + 1, self.n_changes - 1)\n",
    "        reward = np.random.binomial(n=1, p=self.proba_matrix[self.phase, pulled_arm])\n",
    "        self.t += 1\n",
    "        return reward\n",
    "\n",
    "\n",
    "class learner:\n",
    "    def __init__(self, n_arms):\n",
    "        self.t = 0\n",
    "        self.n_arms = n_arms\n",
    "        self.rewards = []\n",
    "        self.reward_per_arm = [[] for _ in range(n_arms)]\n",
    "        self.pulled = []\n",
    "\n",
    "    def act(self):\n",
    "        pass\n",
    "\n",
    "    def update(self, arm_pulled, reward):\n",
    "        self.t += 1\n",
    "        self.rewards.append(reward)\n",
    "        self.reward_per_arm[arm_pulled].append(reward)\n",
    "        self.pulled.append(arm_pulled)"
   ]
  },
  {
   "cell_type": "code",
   "execution_count": 3,
   "metadata": {},
   "outputs": [],
   "source": [
    "class SW_TS(learner):\n",
    "  def __init__(self, n_arms, window_size):\n",
    "    super().__init__(n_arms)\n",
    "    self.n_arms = n_arms\n",
    "    self.window_size = window_size\n",
    "    self.alphas = np.ones(self.n_arms)\n",
    "    self.betas = np.ones(self.n_arms)\n",
    "    self.t = 0\n",
    "\n",
    "  def reset(self):\n",
    "     self.__init__(self.n_arms, self.window_size)\n",
    "\n",
    "  def update(self, pulled_arm, rewrad):\n",
    "      super().update(pulled_arm, rewrad)\n",
    "      for arm_idx in range(self.n_arms):\n",
    "        n_samples = np.sum(np.array(self.pulled[-self.window_size:])== arm_idx)\n",
    "        if n_samples == 0:\n",
    "          n_sold = 0\n",
    "        else:\n",
    "          n_sold = np.sum(self.reward_per_arm[arm_idx][-n_samples:])\n",
    "        self.alphas[arm_idx] = n_sold + 1\n",
    "        self.betas[arm_idx] = n_samples - n_sold + 1\n",
    "        assert self.betas[arm_idx]>0, (arm_idx, self.pulled[-self.window_size:], n_sold )\n",
    "\n",
    "\n",
    "  def act(self):\n",
    "      samples = [np.random.beta(a=self.alphas[i], b =  self.betas[i]) for i in range(self.n_arms)]\n",
    "      return np.argmax(samples)"
   ]
  },
  {
   "cell_type": "code",
   "execution_count": 4,
   "metadata": {},
   "outputs": [],
   "source": [
    "p= np.array([[0.5, 0.4, 0.3, 0.2],\n",
    "            [0., 0.5, 0.2, 0.3],\n",
    "            [0.3, 0.2, 0.4, 0.6]])\n",
    "\n",
    "T = 1000\n",
    "n_arms= p.shape[1]\n",
    "env = non_stat_env(n_arms, p, T)\n",
    "window_size = 4*int(np.sqrt(T))\n",
    "ag1 = SW_TS(n_arms, window_size)\n",
    "opt = np.max(p, axis=1)\n",
    "N_exp = 5\n",
    "\n",
    "R = []\n",
    "for _ in range(N_exp):\n",
    "  instant_regret = []\n",
    "  ag1.reset()\n",
    "  for t in range(T):\n",
    "    pulled_arm = ag1.act()\n",
    "    rew = env.round(pulled_arm)\n",
    "    ag1.update(pulled_arm, rew)\n",
    "    phase = env.phase\n",
    "    instant_regret.append(opt[phase]-p[phase, pulled_arm])\n",
    "  cumulative_regret = np.cumsum(instant_regret)\n",
    "  R.append(cumulative_regret)\n",
    "mean_R = np.mean(R, axis=0)\n",
    "std_dev = np.std(R, axis=0)/np.sqrt(N_exp)"
   ]
  },
  {
   "cell_type": "code",
   "execution_count": 5,
   "metadata": {
    "collapsed": false,
    "pycharm": {
     "name": "#%%\n"
    }
   },
   "outputs": [
    {
     "data": {
      "text/plain": [
       "<matplotlib.collections.PolyCollection at 0x118bd6cd0>"
      ]
     },
     "execution_count": 5,
     "metadata": {},
     "output_type": "execute_result"
    },
    {
     "data": {
      "image/png": "[encoded data removed]",
      "text/plain": [
       "<Figure size 432x288 with 1 Axes>"
      ]
     },
     "metadata": {
      "needs_background": "light"
     },
     "output_type": "display_data"
    }
   ],
   "source": [
    "plt.plot(mean_R)\n",
    "plt.fill_between(range(T), mean_R-std_dev, mean_R+std_dev, alpha=0.4)"
   ]
  }
 ],
 "metadata": {
  "kernelspec": {
   "display_name": "Python 3.9.13 ('base')",
   "language": "python",
   "name": "python3"
  },
  "language_info": {
   "codemirror_mode": {
    "name": "ipython",
    "version": 3
   },
   "file_extension": ".py",
   "mimetype": "text/x-python",
   "name": "python",
   "nbconvert_exporter": "python",
   "pygments_lexer": "ipython3",
   "version": "3.9.13"
  },
  "orig_nbformat": 4,
  "vscode": {
   "interpreter": {
    "hash": "ea37d35cfd41fc6717f9529750021531a5f8e538d9a5c491148c5c09b9af2e3e"
   }
  }
 },
 "nbformat": 4,
 "nbformat_minor": 2
}
