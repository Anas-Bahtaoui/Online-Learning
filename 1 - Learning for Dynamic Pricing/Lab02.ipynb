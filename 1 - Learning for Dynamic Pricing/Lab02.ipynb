{
 "cells": [
  {
   "cell_type": "code",
   "execution_count": 1,
   "metadata": {},
   "outputs": [],
   "source": [
    "import numpy as np\n",
    "import matplotlib.pyplot as plt"
   ]
  },
  {
   "cell_type": "code",
   "execution_count": 2,
   "metadata": {},
   "outputs": [],
   "source": [
    "class non_stat_env:\n",
    "    def __init__(self, n_arms, probs_matrix, horizon):\n",
    "        self.n_arms = n_arms\n",
    "        self.probs_matrix = probs_matrix\n",
    "        self.horion = horizon\n",
    "        self.n_changes = len(probs_matrix)\n",
    "        self.inner_horizon = self.horion // self.n_changes\n",
    "        self.t = 0\n",
    "        self.phase = 0\n",
    "        \n",
    "    def round(self, pulled_arm):\n",
    "        if self.t > (self.phase+1)*self.inner_horizon:\n",
    "            self.phase = min(self.phase+1, )\n",
    "        reward = np.random.binomial(n=1, p=self.probs_matrix[self.phase, pulled_arm])\n",
    "        self.t += 1\n",
    "        return reward\n",
    "\n",
    "class learner:\n",
    "        def __init__(self, n_arm):\n",
    "            self.t = 0\n",
    "            self.n_arm = n_arm\n",
    "            self.rewards = []\n",
    "            self.rewards_per_arm = [[] for _ in range(n_arm)]\n",
    "            self.pulled = []\n",
    "            \n",
    "        def reset(self):\n",
    "            self.__init__(self.n_arm, self.prices, self.T)\n",
    "            \n",
    "        def act(self):\n",
    "            pass\n",
    "        \n",
    "        def update(self, arm_pulled, reward):\n",
    "            self.t += 1\n",
    "            self.rewards.append(reward)\n",
    "            self.rewards_per_arm[arm_pulled].append(reward)\n",
    "            self.pulled.append(arm_pulled)"
   ]
  },
  {
   "cell_type": "code",
   "execution_count": 6,
   "metadata": {},
   "outputs": [],
   "source": [
    "class SW_TS:\n",
    "    def __init__(self, n_arms, window_size):\n",
    "        #super().__init__\n",
    "        self.n_arms = n_arms\n",
    "        self.window_size = window_size\n",
    "        self.alphas = np.ones(self.n_arms)\n",
    "        self.betas = np.ones(self.n_arms)\n",
    "        self.t = 0\n",
    "        \n",
    "    def reset(self):\n",
    "        self.__init__(self.n_arms, self.window_size)\n",
    "\n",
    "    def update(self, pulled_arm, reward):\n",
    "        super().update(pulled_arm, reward)\n",
    "        for arm_idx in range(self.n_arms):\n",
    "            n_samples = np.sum(np.array(self.pulled[-self.window_size:])==arm_idx) #Count how many samples from a specific arm in a given window\n",
    "            if n_samples == 0:\n",
    "                n_sold = 0\n",
    "            else:\n",
    "                n_sold = np.sum(self.reward_per_arm[arm_idx][-n_samples:]) #How many positive bernoulli trials in a window\n",
    "            self.alphas[arm_idx] = n_sold + 1\n",
    "            self.betas[arm_idx] = n_samples - n_sold + 1 # beta = number of failures\n",
    "            \n",
    "            \n",
    "    def act(self):\n",
    "        samples = [np.random.beta(a = self.alphas[i], b = self.betas[i]) for i in range(self.n_arms)]\n",
    "        return np.argmax(samples)"
   ]
  },
  {
   "cell_type": "code",
   "execution_count": 8,
   "metadata": {},
   "outputs": [
    {
     "ename": "TypeError",
     "evalue": "__init__() missing 1 required positional argument: 'horizon'",
     "output_type": "error",
     "traceback": [
      "\u001b[0;31m---------------------------------------------------------------------------\u001b[0m",
      "\u001b[0;31mTypeError\u001b[0m                                 Traceback (most recent call last)",
      "\u001b[0;32m/var/folders/lj/xmn141ms44192c1d5h7d0qxw0000gn/T/ipykernel_31523/2760528451.py\u001b[0m in \u001b[0;36m<module>\u001b[0;34m\u001b[0m\n\u001b[1;32m      4\u001b[0m \u001b[0;34m\u001b[0m\u001b[0m\n\u001b[1;32m      5\u001b[0m \u001b[0mT\u001b[0m \u001b[0;34m=\u001b[0m \u001b[0;36m1000\u001b[0m\u001b[0;34m\u001b[0m\u001b[0;34m\u001b[0m\u001b[0m\n\u001b[0;32m----> 6\u001b[0;31m \u001b[0menv\u001b[0m \u001b[0;34m=\u001b[0m \u001b[0mnon_stat_env\u001b[0m\u001b[0;34m(\u001b[0m\u001b[0mp\u001b[0m\u001b[0;34m,\u001b[0m \u001b[0mT\u001b[0m\u001b[0;34m)\u001b[0m\u001b[0;34m\u001b[0m\u001b[0;34m\u001b[0m\u001b[0m\n\u001b[0m\u001b[1;32m      7\u001b[0m \u001b[0mwindow_size\u001b[0m \u001b[0;34m=\u001b[0m \u001b[0;36m4\u001b[0m\u001b[0;34m*\u001b[0m\u001b[0mint\u001b[0m\u001b[0;34m(\u001b[0m\u001b[0mnp\u001b[0m\u001b[0;34m.\u001b[0m\u001b[0msqrt\u001b[0m\u001b[0;34m(\u001b[0m\u001b[0mT\u001b[0m\u001b[0;34m)\u001b[0m\u001b[0;34m)\u001b[0m\u001b[0;34m\u001b[0m\u001b[0;34m\u001b[0m\u001b[0m\n\u001b[1;32m      8\u001b[0m \u001b[0mn_arms\u001b[0m \u001b[0;34m=\u001b[0m \u001b[0mp\u001b[0m\u001b[0;34m.\u001b[0m\u001b[0mshape\u001b[0m\u001b[0;34m(\u001b[0m\u001b[0;36m1\u001b[0m\u001b[0;34m)\u001b[0m\u001b[0;34m\u001b[0m\u001b[0;34m\u001b[0m\u001b[0m\n",
      "\u001b[0;31mTypeError\u001b[0m: __init__() missing 1 required positional argument: 'horizon'"
     ]
    }
   ],
   "source": [
    "p = np.array([[0.5, 0.4, 0.3, 0.2], \n",
    "             [0.4, 0.5, 0.2, 0.3], \n",
    "             [0.3, 0.2, 0.4, 0.6]])\n",
    "\n",
    "T = 1000\n",
    "env = non_stat_env(p, T)\n",
    "window_size = 4*int(np.sqrt(T))\n",
    "n_arms = p.shape(1)\n",
    "ag1 = SW_TS(p.shape(1), )\n",
    "opt = np.max(p, axis = 1)\n",
    "N_exp = 55\n",
    "\n",
    "R = []\n",
    "for _ in range(N_exp):\n",
    "    instant_regret = []\n",
    "    ag1.reset()\n",
    "    for t in range(T):\n",
    "        pulled_arm = ag1.act()\n",
    "        rew = env.round(pulled_arm)\n",
    "        ag1.update(pulled_arm, rew)\n",
    "        phase = env.phase\n",
    "        instant_regret.append(opt[phase] - p[phase, pulled_arm])\n",
    "    cumulative_regret = np.cumsum(instant_regret)\n",
    "R.append(cumulative_regret)\n",
    "R = np.array(R)\n",
    "mean_R = np.mean(R, axis=0)\n",
    "std_dev = np.std(R, axis=0)/np.sqrt(N_exp)\n",
    "\n"
   ]
  }
 ],
 "metadata": {
  "interpreter": {
   "hash": "aee8b7b246df8f9039afb4144a1f6fd8d2ca17a180786b69acc140d282b71a49"
  },
  "kernelspec": {
   "display_name": "Python 3.9.10 64-bit",
   "language": "python",
   "name": "python3"
  },
  "language_info": {
   "codemirror_mode": {
    "name": "ipython",
    "version": 3
   },
   "file_extension": ".py",
   "mimetype": "text/x-python",
   "name": "python",
   "nbconvert_exporter": "python",
   "pygments_lexer": "ipython3",
   "version": "3.9.10"
  },
  "orig_nbformat": 4
 },
 "nbformat": 4,
 "nbformat_minor": 2
}
